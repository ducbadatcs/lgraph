{
 "cells": [
  {
   "cell_type": "markdown",
   "id": "d3a40b71",
   "metadata": {},
   "source": [
    "Trong lúc định nghĩa StateGraph có sử dụng một *state schema*\n",
    "\n",
    "Một *State Schema* chưa scaaus trúc và các kiểu dữ liệu mà graph có sử dụng\n",
    "\n",
    "Các node đều yêu cầu phải dựa trên schema đó.\n",
    "\n",
    "LangGraph cho phép định nghĩa State Schema có hỗ trợ nhiều kiểu (type) Python"
   ]
  },
  {
   "cell_type": "code",
   "execution_count": 1,
   "id": "e4a8646f",
   "metadata": {},
   "outputs": [],
   "source": [
    "from typing_extensions import TypedDict\n",
    "from typing import Literal"
   ]
  },
  {
   "cell_type": "code",
   "execution_count": 3,
   "id": "a6a47492",
   "metadata": {},
   "outputs": [],
   "source": [
    "class TypedDictState(TypedDict):\n",
    "    name: str\n",
    "    game: str"
   ]
  },
  {
   "cell_type": "code",
   "execution_count": 7,
   "id": "f37b8736",
   "metadata": {},
   "outputs": [
    {
     "name": "stdout",
     "output_type": "stream",
     "text": [
      "play\n"
     ]
    },
    {
     "data": {
      "text/plain": [
       "{'name': 'SM64', 'game': \"Playing 'are you wires?'\"}"
      ]
     },
     "execution_count": 7,
     "metadata": {},
     "output_type": "execute_result"
    }
   ],
   "source": [
    "def play(state: TypedDictState) -> TypedDictState:\n",
    "    print(\"play\")\n",
    "    return TypedDictState({\n",
    "\t\t\"name\": state[\"name\"]\n",
    "\t\t,\"game\": \"Playing \"  + f\"'{state['game']}'\"\n",
    "\t})\n",
    "    \n",
    "play(TypedDictState({\n",
    "\t\"name\": \"SM64\",\n",
    " \"game\": \"are you wires?\"\n",
    "}))"
   ]
  },
  {
   "cell_type": "code",
   "execution_count": 22,
   "id": "f327f2b7",
   "metadata": {},
   "outputs": [],
   "source": [
    "import secrets\n",
    "\n",
    "def literally_rng(state: TypedDictState) -> TypedDictState:\n",
    "    return TypedDictState({\n",
    "\t\t\"name\": secrets.token_hex(32),\n",
    "  \"game\": \"\"\n",
    "\t})"
   ]
  },
  {
   "cell_type": "code",
   "execution_count": 18,
   "id": "e5d44710",
   "metadata": {},
   "outputs": [],
   "source": [
    "def sleep(state: TypedDictState) -> TypedDictState:\n",
    "    return TypedDictState({\n",
    "\t\t\"name\": state[\"name\"]\n",
    "  ,\"game\": \"sleep\"\n",
    "\t})"
   ]
  },
  {
   "cell_type": "code",
   "execution_count": 20,
   "id": "05ac931f",
   "metadata": {},
   "outputs": [],
   "source": [
    "import random\n",
    "\n",
    "def activity(state: TypedDictState) -> Literal[\"play\", \"sleep\"]:\n",
    "    return     \"play\" if random.random() < 0.5 else \"sleep\"\n",
    "    "
   ]
  },
  {
   "cell_type": "code",
   "execution_count": 28,
   "id": "a4842973",
   "metadata": {},
   "outputs": [
    {
     "data": {
      "text/plain": [
       "<langgraph.graph.state.StateGraph at 0x1c6bb433d90>"
      ]
     },
     "execution_count": 28,
     "metadata": {},
     "output_type": "execute_result"
    }
   ],
   "source": [
    "import random\n",
    "from IPython.display import Image, display\n",
    "from langgraph.graph import StateGraph, START, END\n",
    "\n",
    "builder = StateGraph(TypedDictState)\n",
    "builder.add_node(\"play\", play)\n",
    "builder.add_node(\"sleep\", sleep)\n",
    "builder.add_node(\"literally_rng\", literally_rng)\n",
    "builder.add_node(\"activity\", activity)\n",
    "\n",
    "builder.add_edge(START, \"literally_rng\")\n",
    "# builder.add_edge(\"literally_rng\", \"activity\")\n",
    "builder.add_conditional_edges(\"literally_rng\", activity)\n",
    "builder.add_edge(\"activity\", END)\n"
   ]
  },
  {
   "cell_type": "code",
   "execution_count": 35,
   "id": "25540243",
   "metadata": {},
   "outputs": [
    {
     "name": "stdout",
     "output_type": "stream",
     "text": [
      "play\n"
     ]
    },
    {
     "data": {
      "text/plain": [
       "{'name': '4cf97b829019fb20eda81779ab8230fc99d196d714fbbc93a01763221d756855',\n",
       " 'game': \"Playing ''\"}"
      ]
     },
     "execution_count": 35,
     "metadata": {},
     "output_type": "execute_result"
    }
   ],
   "source": [
    "# uh\n",
    "graph = builder.compile()\n",
    "graph.invoke(TypedDictState({\n",
    "\t\"name\": \"\",\n",
    " \"game\": \"\"\n",
    "}))"
   ]
  },
  {
   "cell_type": "code",
   "execution_count": null,
   "id": "64db581b",
   "metadata": {},
   "outputs": [],
   "source": []
  }
 ],
 "metadata": {
  "kernelspec": {
   "display_name": "lgraph",
   "language": "python",
   "name": "python3"
  },
  "language_info": {
   "codemirror_mode": {
    "name": "ipython",
    "version": 3
   },
   "file_extension": ".py",
   "mimetype": "text/x-python",
   "name": "python",
   "nbconvert_exporter": "python",
   "pygments_lexer": "ipython3",
   "version": "3.13.3"
  }
 },
 "nbformat": 4,
 "nbformat_minor": 5
}
