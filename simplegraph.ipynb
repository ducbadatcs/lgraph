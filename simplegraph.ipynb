{
 "cells": [
  {
   "cell_type": "code",
   "execution_count": 1,
   "id": "cb43b769",
   "metadata": {},
   "outputs": [
    {
     "data": {
      "text/plain": [
       "True"
      ]
     },
     "execution_count": 1,
     "metadata": {},
     "output_type": "execute_result"
    }
   ],
   "source": [
    "from dotenv import load_dotenv\n",
    "load_dotenv()"
   ]
  },
  {
   "cell_type": "markdown",
   "id": "0c54300a",
   "metadata": {},
   "source": [
    "# Langgraph \n",
    "\n",
    "## Cấu trúc\n",
    "\n",
    "- **Node**: Bao gồm các hàm Python \n",
    "- **Edge**: Kết nối các Node\n",
    "\t- **Conditional Edge**: Nhiều Edge xuất phát từ 1 node, tùy thuộc vào 1 điều kiện cho trước\n",
    "- **State**: State Schema, làm input cho các Node và Edge.\n",
    "- **State Graph**: Cấu trúc Graph.\n",
    "\n"
   ]
  },
  {
   "cell_type": "markdown",
   "id": "eebbbe81",
   "metadata": {},
   "source": [
    "Để xây dựng LangGraph Workflow:\n",
    "\n",
    "- Định nghĩa State\n",
    "- State schema làm input schema cho tất cả các Node và Edge"
   ]
  },
  {
   "cell_type": "code",
   "execution_count": 2,
   "id": "8e2381a4",
   "metadata": {},
   "outputs": [],
   "source": [
    "from typing_extensions import TypedDict\n",
    "\n",
    "class State(TypedDict):\n",
    "    graph_info: str\n",
    "    key: str"
   ]
  },
  {
   "cell_type": "markdown",
   "id": "7d0fd8a6",
   "metadata": {},
   "source": [
    "Định nghĩa Node\n",
    "\n",
    "Positional Argument đầu tiên là State được định nghĩa\n",
    "\n",
    "State là TypedDict như schema ở trên. Mỗi node trả về một GraphState.\\\n",
    "\n",
    "Nếu trả về kết quả mới sẽ override các state value trước"
   ]
  },
  {
   "cell_type": "markdown",
   "id": "9458babb",
   "metadata": {},
   "source": [
    "Graph co thê được xây dựng bằng các component ở trên. \n",
    "\n",
    "`StateGraph` là class có thể dùng.\n",
    "\n",
    "Đầu tiên, tạo 1 `StateGraph` với `State` class ở trên\n",
    "\n",
    "Sau đó thêm các `Node` và `Edge`.\n",
    "\n",
    "Sử dụng `START Node` là `Node` nhận input của người dùng để bắt đầu Graph; `END Node` để kết thúc\n",
    "\n",
    "Compile Graph\n",
    "\n",
    "Sau đó vẽ graph dưới dạng Mermaid Diagram\n"
   ]
  },
  {
   "cell_type": "code",
   "execution_count": 3,
   "id": "874361e4",
   "metadata": {},
   "outputs": [
    {
     "name": "stdout",
     "output_type": "stream",
     "text": [
      "<langgraph.graph.state.StateGraph object at 0x000002932D87A3C0>\n"
     ]
    }
   ],
   "source": [
    "from IPython.display import Image, display\n",
    "from langgraph.graph import StateGraph, START, END\n",
    "import secrets\n",
    "\n",
    "def start(state: State) -> State:\n",
    "    return state\n",
    "\n",
    "def get_key(state: State) -> State:\n",
    "    return State({\n",
    "\t\t\"graph_info\": state[\"graph_info\"],\"key\": secrets.token_hex(10)\n",
    "\t})\n",
    "\n",
    "graph = StateGraph(State)\n",
    "# graph.add_node(START, start)\n",
    "graph.add_node(\"start\", start)\n",
    "graph.add_node(\"get_key\", get_key)    \n",
    "\n",
    "graph.add_edge(START, \"start\")\n",
    "graph.add_edge(\"start\", \"get_key\")\n",
    "graph.add_edge(\"get_key\", END)\n",
    "\n",
    "print(graph)"
   ]
  },
  {
   "cell_type": "markdown",
   "id": "b8cbe7a8",
   "metadata": {},
   "source": [
    "Compile graph\n"
   ]
  },
  {
   "cell_type": "code",
   "execution_count": 7,
   "id": "55885467",
   "metadata": {},
   "outputs": [
    {
     "data": {
      "image/png": "[encoded data removed]",
      "text/plain": [
       "<IPython.core.display.Image object>"
      ]
     },
     "metadata": {},
     "output_type": "display_data"
    }
   ],
   "source": [
    "from langchain_core.runnables.graph import MermaidDrawMethod\n",
    "from IPython.display import Image, display, Markdown\n",
    "\n",
    "graph_builder = graph.compile()\n",
    "\n",
    "# Display as Mermaid diagram directly in the notebook\n",
    "mermaid_code = graph_builder.get_graph().draw_mermaid_png()\n",
    "display(Image(mermaid_code))"
   ]
  },
  {
   "cell_type": "markdown",
   "id": "162840b6",
   "metadata": {},
   "source": [
    "Invoke graph bằng `graph.invoke()`"
   ]
  },
  {
   "cell_type": "code",
   "execution_count": 12,
   "id": "85e138da",
   "metadata": {},
   "outputs": [
    {
     "data": {
      "text/plain": [
       "{'graph_info': 'graph', 'key': '629d75b01dfcae290f16'}"
      ]
     },
     "execution_count": 12,
     "metadata": {},
     "output_type": "execute_result"
    }
   ],
   "source": [
    "graph_builder.invoke(State({\n",
    "\t\"graph_info\": \"graph\",\n",
    " \"key\": \"\"\n",
    "}))"
   ]
  },
  {
   "cell_type": "code",
   "execution_count": null,
   "id": "b7cc2a43",
   "metadata": {},
   "outputs": [],
   "source": []
  }
 ],
 "metadata": {
  "kernelspec": {
   "display_name": "lgraph",
   "language": "python",
   "name": "python3"
  },
  "language_info": {
   "codemirror_mode": {
    "name": "ipython",
    "version": 3
   },
   "file_extension": ".py",
   "mimetype": "text/x-python",
   "name": "python",
   "nbconvert_exporter": "python",
   "pygments_lexer": "ipython3",
   "version": "3.13.3"
  }
 },
 "nbformat": 4,
 "nbformat_minor": 5
}
