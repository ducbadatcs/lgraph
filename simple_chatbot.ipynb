{
 "cells": [
  {
   "cell_type": "markdown",
   "id": "1bd92141",
   "metadata": {},
   "source": [
    "chatbot"
   ]
  },
  {
   "cell_type": "code",
   "execution_count": 1,
   "id": "0217cc99",
   "metadata": {},
   "outputs": [],
   "source": [
    "from typing_extensions import TypedDict\n",
    "\n",
    "from langgraph.graph import START, END, StateGraph\n",
    "\n",
    "# reduce\n",
    "from typing import Annotated\n",
    "from langgraph.graph.message import add_messages"
   ]
  },
  {
   "cell_type": "markdown",
   "id": "87dab3db",
   "metadata": {},
   "source": [
    "Load API key bằng `dotenv`"
   ]
  },
  {
   "cell_type": "code",
   "execution_count": 2,
   "id": "198b11ee",
   "metadata": {},
   "outputs": [],
   "source": [
    "import os\n",
    "from dotenv import load_dotenv\n",
    "\n",
    "load_dotenv()  # This will load all environment variables from .env file\n",
    "\n",
    "# Make sure OPENAI_API_KEY is set\n",
    "os.environ[\"OPENAI_API_KEY\"] = str(os.getenv(\"OPENAI_API_KEY\"))\n",
    "os.environ[\"GROQ_API_KEY\"] = str(os.getenv(\"GROQ_API_KEY\"))\n",
    "os.environ[\"GOOGLE_API_KEY\"] = str(os.getenv(\"GOOGLE_API_KEY\"))\n"
   ]
  },
  {
   "cell_type": "markdown",
   "id": "9c2f31c5",
   "metadata": {},
   "source": [
    "Call model"
   ]
  },
  {
   "cell_type": "code",
   "execution_count": 3,
   "id": "d5ee7170",
   "metadata": {},
   "outputs": [
    {
     "data": {
      "text/plain": [
       "AIMessage(content='This is a test.  How can I help you?', additional_kwargs={}, response_metadata={'prompt_feedback': {'block_reason': 0, 'safety_ratings': []}, 'finish_reason': 'STOP', 'model_name': 'gemini-1.5-flash', 'safety_ratings': []}, id='run--4e376332-3cbc-4c9c-8f8a-dd3c1f0727b8-0', usage_metadata={'input_tokens': 1, 'output_tokens': 13, 'total_tokens': 14, 'input_token_details': {'cache_read': 0}})"
      ]
     },
     "execution_count": 3,
     "metadata": {},
     "output_type": "execute_result"
    }
   ],
   "source": [
    "from langchain_google_genai import ChatGoogleGenerativeAI\n",
    "\n",
    "llm = ChatGoogleGenerativeAI(model=\"gemini-1.5-flash\")\n",
    "\n",
    "llm.invoke(\"test\")"
   ]
  },
  {
   "cell_type": "code",
   "execution_count": 4,
   "id": "67003998",
   "metadata": {},
   "outputs": [],
   "source": [
    "class State(TypedDict):\n",
    "    messages: Annotated[list, add_messages]"
   ]
  },
  {
   "cell_type": "markdown",
   "id": "747e73e4",
   "metadata": {},
   "source": [
    "Tạo Node"
   ]
  },
  {
   "cell_type": "code",
   "execution_count": 5,
   "id": "7d929543",
   "metadata": {},
   "outputs": [],
   "source": [
    "def bot(state: State) -> State:\n",
    "    return State({\n",
    "\t\t\"messages\": [llm.invoke(state[\"messages\"])]\n",
    "\t})"
   ]
  },
  {
   "cell_type": "code",
   "execution_count": 6,
   "id": "cf4ffd6d",
   "metadata": {},
   "outputs": [
    {
     "data": {
      "text/plain": [
       "<langgraph.graph.state.StateGraph at 0x240abc54440>"
      ]
     },
     "execution_count": 6,
     "metadata": {},
     "output_type": "execute_result"
    }
   ],
   "source": [
    "# nodes\n",
    "\n",
    "builder = StateGraph(State)\n",
    "\n",
    "builder.add_node(\"bot\", bot)\n",
    "\n",
    "# edges\n",
    "\n",
    "builder.add_edge(START, \"bot\")\n",
    "builder.add_edge(\"bot\", END)\n",
    "\n"
   ]
  },
  {
   "cell_type": "code",
   "execution_count": 7,
   "id": "1d07f415",
   "metadata": {},
   "outputs": [
    {
     "name": "stdout",
     "output_type": "stream",
     "text": [
      "+-----------+  \n",
      "| __start__ |  \n",
      "+-----------+  \n",
      "      *        \n",
      "      *        \n",
      "      *        \n",
      "   +-----+     \n",
      "   | bot |     \n",
      "   +-----+     \n",
      "      *        \n",
      "      *        \n",
      "      *        \n",
      " +---------+   \n",
      " | __end__ |   \n",
      " +---------+   \n"
     ]
    }
   ],
   "source": [
    "# from IPython import \n",
    "from IPython.display import Image, display\n",
    "graph = builder.compile()\n",
    "print(graph.get_graph().draw_ascii())\n",
    "# display(Image(graph.get_graph().draw_ascii()))"
   ]
  },
  {
   "cell_type": "code",
   "execution_count": 8,
   "id": "28eec137",
   "metadata": {},
   "outputs": [
    {
     "name": "stdout",
     "output_type": "stream",
     "text": [
      "{'messages': [HumanMessage(content='how to invert a binary tree', additional_kwargs={}, response_metadata={}, id='798e1fe4-b353-41e1-9def-8f724f754b96'), AIMessage(content='Inverting a binary tree means swapping the left and right children of every node in the tree.  There are several ways to accomplish this, but the most common and efficient approaches use recursion or iteration.\\n\\n**1. Recursive Approach (Most Elegant and Common)**\\n\\nThis approach leverages the recursive nature of a tree.  We recursively invert the left and right subtrees, and then swap the left and right children of the current node.\\n\\n```python\\nclass Node:\\n    def __init__(self, data):\\n        self.data = data\\n        self.left = None\\n        self.right = None\\n\\ndef invert_tree(root):\\n    \"\"\"Inverts a binary tree recursively.\"\"\"\\n    if root is None:\\n        return None\\n\\n    # Recursively invert left and right subtrees\\n    root.left, root.right = invert_tree(root.right), invert_tree(root.left)\\n    return root\\n\\n# Example usage:\\nroot = Node(1)\\nroot.left = Node(2)\\nroot.right = Node(3)\\nroot.left.left = Node(4)\\nroot.left.right = Node(5)\\n\\nprint(\"Original Tree:\")\\n# (Add a function to print the tree here if you want to visualize it)\\n\\ninverted_root = invert_tree(root)\\n\\nprint(\"\\\\nInverted Tree:\")\\n# (Add a function to print the tree here if you want to visualize it)\\n\\n\\n```\\n\\n**2. Iterative Approach (Using a Queue/Stack)**\\n\\nThis approach uses a queue (Breadth-First Search) or a stack (Depth-First Search) to process the nodes level by level or depth-first.\\n\\n**a) Iterative approach using a queue (BFS):**\\n\\n```python\\nfrom collections import deque\\n\\ndef invert_tree_iterative_queue(root):\\n    \"\"\"Inverts a binary tree iteratively using a queue (BFS).\"\"\"\\n    if root is None:\\n        return None\\n\\n    queue = deque([root])\\n    while queue:\\n        current = queue.popleft()\\n        current.left, current.right = current.right, current.left  # Swap children\\n\\n        if current.left:\\n            queue.append(current.left)\\n        if current.right:\\n            queue.append(current.right)\\n    return root\\n```\\n\\n**b) Iterative approach using a stack (DFS):**  (Similar to preorder traversal)\\n\\n```python\\ndef invert_tree_iterative_stack(root):\\n    \"\"\"Inverts a binary tree iteratively using a stack (DFS).\"\"\"\\n    if root is None:\\n        return None\\n\\n    stack = [root]\\n    while stack:\\n        current = stack.pop()\\n        current.left, current.right = current.right, current.left\\n\\n        if current.right:\\n            stack.append(current.right)\\n        if current.left:\\n            stack.append(current.left)\\n    return root\\n```\\n\\n**Choosing the Right Approach:**\\n\\n* **Recursive approach:** Generally preferred for its clarity and conciseness.  It\\'s often easier to understand and implement.  However, it can lead to stack overflow errors for extremely deep trees.\\n\\n* **Iterative approach:**  Avoids the risk of stack overflow, making it suitable for very deep trees.  It might be slightly less readable than the recursive version.  The queue-based (BFS) version processes nodes level by level, while the stack-based (DFS) version processes them depth-first.\\n\\nRemember to add a function to print the tree structure to visually verify the inversion.  A simple in-order, pre-order, or post-order traversal can be used for this purpose.  For example, a simple in-order traversal:\\n\\n```python\\ndef print_inorder(node):\\n    if node:\\n        print_inorder(node.left)\\n        print(node.data, end=\" \")\\n        print_inorder(node.right)\\n```\\n\\nInclude this function in your example usage to see the tree before and after inversion.  Choose the inversion method (recursive or iterative) that best suits your needs and understanding.  The recursive version is often the most straightforward for beginners.', additional_kwargs={}, response_metadata={'prompt_feedback': {'block_reason': 0, 'safety_ratings': []}, 'finish_reason': 'STOP', 'model_name': 'gemini-1.5-flash', 'safety_ratings': []}, id='run--50bb728a-edb8-42c9-a3c5-706c4a236131-0', usage_metadata={'input_tokens': 6, 'output_tokens': 909, 'total_tokens': 915, 'input_token_details': {'cache_read': 0}})]}\n"
     ]
    }
   ],
   "source": [
    "import json\n",
    "\n",
    "query = \"how to invert a binary tree\"\n",
    "res = graph.invoke(State({\n",
    "\t\"messages\": [query]\n",
    "}))\n",
    "\n",
    "print(res)"
   ]
  },
  {
   "cell_type": "markdown",
   "id": "69bf7829",
   "metadata": {},
   "source": [
    "Stream"
   ]
  },
  {
   "cell_type": "code",
   "execution_count": 9,
   "id": "7940c2da",
   "metadata": {},
   "outputs": [
    {
     "name": "stdout",
     "output_type": "stream",
     "text": [
      "{'messages': [HumanMessage(content='how to reverse a linked list', additional_kwargs={}, response_metadata={}, id='2bd1b5df-fb91-45f9-8c3e-296e3093afde')]}\n",
      "{'messages': [HumanMessage(content='how to reverse a linked list', additional_kwargs={}, response_metadata={}, id='2bd1b5df-fb91-45f9-8c3e-296e3093afde'), AIMessage(content='There are several ways to reverse a linked list. Here are three common approaches, along with explanations and code examples in Python:\\n\\n**Method 1: Iterative Approach**\\n\\nThis is generally the most efficient and commonly used method.  It uses three pointers: `prev`, `curr`, and `next`.\\n\\n* `prev`: Points to the previously reversed node.  Starts as `None`.\\n* `curr`: Points to the current node being processed. Starts as the head of the list.\\n* `next`: Temporarily stores the next node in the list to avoid losing it.\\n\\n```python\\nclass Node:\\n    def __init__(self, data):\\n        self.data = data\\n        self.next = None\\n\\ndef reverse_linked_list_iterative(head):\\n    prev = None\\n    curr = head\\n    while curr:\\n        next = curr.next  # Store the next node\\n        curr.next = prev  # Reverse the current node\\'s pointer\\n        prev = curr       # Move prev one step forward\\n        curr = next       # Move curr one step forward\\n    return prev  # prev is now the new head\\n\\n# Example usage:\\nhead = Node(1)\\nhead.next = Node(2)\\nhead.next.next = Node(3)\\nhead.next.next.next = Node(4)\\n\\nreversed_head = reverse_linked_list_iterative(head)\\n\\nwhile reversed_head:\\n    print(reversed_head.data, end=\" \")\\n    reversed_head = reversed_head.next\\n# Output: 4 3 2 1\\n```\\n\\n**Method 2: Recursive Approach**\\n\\nThis method is elegant but can be less efficient due to function call overhead, especially for large lists.  It reverses the list by recursively reversing the rest of the list and then appending the current node to the end.\\n\\n```python\\nclass Node:\\n    def __init__(self, data):\\n        self.data = data\\n        self.next = None\\n\\ndef reverse_linked_list_recursive(head):\\n    if not head or not head.next:\\n        return head  # Base case: empty list or single node\\n\\n    new_head = reverse_linked_list_recursive(head.next)\\n    head.next.next = head  # Reverse the link\\n    head.next = None       # Set the original head\\'s next to None (new tail)\\n    return new_head\\n\\n# Example usage (same as iterative example, just change the function call):\\nhead = Node(1)\\nhead.next = Node(2)\\nhead.next.next = Node(3)\\nhead.next.next.next = Node(4)\\n\\nreversed_head = reverse_linked_list_recursive(head)\\n\\nwhile reversed_head:\\n    print(reversed_head.data, end=\" \")\\n    reversed_head = reversed_head.next\\n# Output: 4 3 2 1\\n```\\n\\n**Method 3: Using a Stack (Less Efficient)**\\n\\nThis method uses a stack to store the nodes and then reconstruct the list in reverse order.  It\\'s less efficient than the iterative approach because of the stack operations.\\n\\n```python\\nclass Node:\\n    def __init__(self, data):\\n        self.data = data\\n        self.next = None\\n\\ndef reverse_linked_list_stack(head):\\n    stack = []\\n    curr = head\\n    while curr:\\n        stack.append(curr)\\n        curr = curr.next\\n\\n    if not stack:\\n        return None\\n\\n    new_head = stack.pop()\\n    curr = new_head\\n    while stack:\\n        next_node = stack.pop()\\n        curr.next = next_node\\n        curr = next_node\\n    curr.next = None  # Set the last node\\'s next to None\\n    return new_head\\n\\n# Example usage (same as iterative example, just change the function call):\\nhead = Node(1)\\nhead.next = Node(2)\\nhead.next.next = Node(3)\\nhead.next.next.next = Node(4)\\n\\nreversed_head = reverse_linked_list_stack(head)\\n\\nwhile reversed_head:\\n    print(reversed_head.data, end=\" \")\\n    reversed_head = reversed_head.next\\n# Output: 4 3 2 1\\n```\\n\\nThe **iterative approach** is generally preferred for its efficiency and simplicity.  The recursive approach is more concise but less efficient for larger lists.  The stack-based approach is the least efficient of the three.  Choose the method that best suits your needs and understanding. Remember to handle the edge case of an empty list or a list with only one node.', additional_kwargs={}, response_metadata={'prompt_feedback': {'block_reason': 0, 'safety_ratings': []}, 'finish_reason': 'STOP', 'model_name': 'gemini-1.5-flash', 'safety_ratings': []}, id='run--3c067c83-cfae-45c1-aca0-06ad406740f1-0', usage_metadata={'input_tokens': 6, 'output_tokens': 1040, 'total_tokens': 1046, 'input_token_details': {'cache_read': 0}})]}\n"
     ]
    }
   ],
   "source": [
    "import json\n",
    "\n",
    "query = \"how to reverse a linked list\"\n",
    "for event in graph.stream(State({\n",
    "\t\"messages\": [query]\n",
    "}), stream_mode=\"values\"):\n",
    "    print(event)\n",
    "\n"
   ]
  },
  {
   "cell_type": "code",
   "execution_count": 10,
   "id": "d80d8ea6",
   "metadata": {},
   "outputs": [],
   "source": [
    "def superbot(state: State) -> State:\n",
    "\treturn State({\n",
    "\t\t\"messages\": [llm.invoke(state[\"messages\"])]\n",
    "\t})"
   ]
  },
  {
   "cell_type": "code",
   "execution_count": 12,
   "id": "7e86faed",
   "metadata": {},
   "outputs": [
    {
     "data": {
      "image/png": "[encoded data removed]",
      "text/plain": [
       "<IPython.core.display.Image object>"
      ]
     },
     "metadata": {},
     "output_type": "display_data"
    }
   ],
   "source": [
    "graph = StateGraph(State)\n",
    "\n",
    "graph.add_node(\"superbot\", superbot)\n",
    "\n",
    "graph.add_edge(START, \"superbot\")\n",
    "graph.add_edge(\"superbot\", END)\n",
    "\n",
    "graph_builder = graph.compile()\n",
    "\n",
    "display(Image(graph_builder.get_graph().draw_mermaid_png()))"
   ]
  },
  {
   "cell_type": "code",
   "execution_count": 14,
   "id": "33dea2b4",
   "metadata": {},
   "outputs": [
    {
     "data": {
      "text/plain": [
       "{'messages': [HumanMessage(content='uh', additional_kwargs={}, response_metadata={}, id='ad8a8f7c-f38e-4801-b854-898a52ae11ac'),\n",
       "  AIMessage(content='Is there anything I can help you with?', additional_kwargs={}, response_metadata={'prompt_feedback': {'block_reason': 0, 'safety_ratings': []}, 'finish_reason': 'STOP', 'model_name': 'gemini-1.5-flash', 'safety_ratings': []}, id='run--09bab7d7-e5fc-4df2-a96c-f5a10a146e3c-0', usage_metadata={'input_tokens': 1, 'output_tokens': 10, 'total_tokens': 11, 'input_token_details': {'cache_read': 0}})]}"
      ]
     },
     "execution_count": 14,
     "metadata": {},
     "output_type": "execute_result"
    }
   ],
   "source": [
    "graph_builder.invoke(State({\n",
    "\t\"messages\": \"uh\"\n",
    "}))"
   ]
  },
  {
   "cell_type": "code",
   "execution_count": null,
   "id": "89c7bbd7",
   "metadata": {},
   "outputs": [],
   "source": []
  }
 ],
 "metadata": {
  "kernelspec": {
   "display_name": "lgraph",
   "language": "python",
   "name": "python3"
  },
  "language_info": {
   "codemirror_mode": {
    "name": "ipython",
    "version": 3
   },
   "file_extension": ".py",
   "mimetype": "text/x-python",
   "name": "python",
   "nbconvert_exporter": "python",
   "pygments_lexer": "ipython3",
   "version": "3.13.3"
  }
 },
 "nbformat": 4,
 "nbformat_minor": 5
}
