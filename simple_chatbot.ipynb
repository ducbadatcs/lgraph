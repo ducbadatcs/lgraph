{
 "cells": [
  {
   "cell_type": "markdown",
   "id": "1bd92141",
   "metadata": {},
   "source": [
    "chatbot"
   ]
  },
  {
   "cell_type": "code",
   "execution_count": 1,
   "id": "0217cc99",
   "metadata": {},
   "outputs": [],
   "source": [
    "from typing_extensions import TypedDict\n",
    "\n",
    "from langgraph.graph import START, END, StateGraph\n",
    "\n",
    "# reduce\n",
    "from typing import Annotated\n",
    "from langgraph.graph.message import add_messages"
   ]
  },
  {
   "cell_type": "markdown",
   "id": "87dab3db",
   "metadata": {},
   "source": [
    "Load API key bằng `dotenv`"
   ]
  },
  {
   "cell_type": "code",
   "execution_count": 2,
   "id": "198b11ee",
   "metadata": {},
   "outputs": [],
   "source": [
    "import os\n",
    "from dotenv import load_dotenv\n",
    "\n",
    "load_dotenv()  # This will load all environment variables from .env file\n",
    "\n",
    "# Make sure OPENAI_API_KEY is set\n",
    "os.environ[\"OPENAI_API_KEY\"] = str(os.getenv(\"OPENAI_API_KEY\"))\n",
    "os.environ[\"GROQ_API_KEY\"] = str(os.getenv(\"GROQ_API_KEY\"))\n",
    "os.environ[\"GOOGLE_API_KEY\"] = str(os.getenv(\"GOOGLE_API_KEY\"))\n"
   ]
  },
  {
   "cell_type": "markdown",
   "id": "9c2f31c5",
   "metadata": {},
   "source": [
    "Call model"
   ]
  },
  {
   "cell_type": "code",
   "execution_count": 3,
   "id": "d5ee7170",
   "metadata": {},
   "outputs": [
    {
     "data": {
      "text/plain": [
       "AIMessage(content=\"Okay, I'm ready.  How can I help you?  What kind of test do you need?\", additional_kwargs={}, response_metadata={'prompt_feedback': {'block_reason': 0, 'safety_ratings': []}, 'finish_reason': 'STOP', 'model_name': 'gemini-1.5-flash', 'safety_ratings': []}, id='run--33373316-eadb-4653-ab8b-715105b3a620-0', usage_metadata={'input_tokens': 1, 'output_tokens': 24, 'total_tokens': 25, 'input_token_details': {'cache_read': 0}})"
      ]
     },
     "execution_count": 3,
     "metadata": {},
     "output_type": "execute_result"
    }
   ],
   "source": [
    "from langchain_google_genai import ChatGoogleGenerativeAI\n",
    "\n",
    "llm = ChatGoogleGenerativeAI(model=\"gemini-1.5-flash\")\n",
    "\n",
    "llm.invoke(\"test\")"
   ]
  },
  {
   "cell_type": "code",
   "execution_count": 4,
   "id": "67003998",
   "metadata": {},
   "outputs": [],
   "source": [
    "class State(TypedDict):\n",
    "    messages: Annotated[list, add_messages]"
   ]
  },
  {
   "cell_type": "markdown",
   "id": "747e73e4",
   "metadata": {},
   "source": [
    "Tạo Node"
   ]
  },
  {
   "cell_type": "code",
   "execution_count": 5,
   "id": "7d929543",
   "metadata": {},
   "outputs": [],
   "source": [
    "def bot(state: State) -> State:\n",
    "    return State({\n",
    "\t\t\"messages\": [llm.invoke(state[\"messages\"])]\n",
    "\t})"
   ]
  },
  {
   "cell_type": "code",
   "execution_count": 6,
   "id": "cf4ffd6d",
   "metadata": {},
   "outputs": [
    {
     "data": {
      "text/plain": [
       "<langgraph.graph.state.StateGraph at 0x2365aa75a90>"
      ]
     },
     "execution_count": 6,
     "metadata": {},
     "output_type": "execute_result"
    }
   ],
   "source": [
    "# nodes\n",
    "\n",
    "builder = StateGraph(State)\n",
    "\n",
    "builder.add_node(\"bot\", bot)\n",
    "\n",
    "# edges\n",
    "\n",
    "builder.add_edge(START, \"bot\")\n",
    "builder.add_edge(\"bot\", END)\n",
    "\n"
   ]
  },
  {
   "cell_type": "code",
   "execution_count": 10,
   "id": "1d07f415",
   "metadata": {},
   "outputs": [
    {
     "name": "stdout",
     "output_type": "stream",
     "text": [
      "+-----------+  \n",
      "| __start__ |  \n",
      "+-----------+  \n",
      "      *        \n",
      "      *        \n",
      "      *        \n",
      "   +-----+     \n",
      "   | bot |     \n",
      "   +-----+     \n",
      "      *        \n",
      "      *        \n",
      "      *        \n",
      " +---------+   \n",
      " | __end__ |   \n",
      " +---------+   \n"
     ]
    }
   ],
   "source": [
    "# from IPython import \n",
    "from IPython.display import Image, display\n",
    "graph = builder.compile()\n",
    "print(graph.get_graph().draw_ascii())\n",
    "# display(Image(graph.get_graph().draw_ascii()))"
   ]
  },
  {
   "cell_type": "code",
   "execution_count": 14,
   "id": "28eec137",
   "metadata": {},
   "outputs": [
    {
     "name": "stdout",
     "output_type": "stream",
     "text": [
      "{'messages': [HumanMessage(content='how to invert a binary tree', additional_kwargs={}, response_metadata={}, id='ed8eee9d-ddc6-4165-853b-f7a55d9fa30b'), AIMessage(content='Inverting a binary tree means swapping the left and right children of every node in the tree.  There are several ways to do this, but the most common and efficient approaches use recursion or iteration.\\n\\n**1. Recursive Approach:**\\n\\nThis is generally considered the most elegant and easiest-to-understand solution.  The core idea is:\\n\\n* **Base Case:** If the node is `null`, do nothing (we\\'ve reached the end of a branch).\\n* **Recursive Step:** Swap the left and right children of the current node, then recursively invert the left subtree and the right subtree.\\n\\nHere\\'s Python code implementing this:\\n\\n```python\\nclass Node:\\n    def __init__(self, data):\\n        self.data = data\\n        self.left = None\\n        self.right = None\\n\\ndef invert_tree(root):\\n    if root is None:\\n        return None\\n\\n    # Swap left and right children\\n    root.left, root.right = root.right, root.left\\n\\n    # Recursively invert left and right subtrees\\n    invert_tree(root.left)\\n    invert_tree(root.right)\\n\\n    return root\\n\\n# Example usage:\\nroot = Node(1)\\nroot.left = Node(2)\\nroot.right = Node(3)\\nroot.left.left = Node(4)\\nroot.left.right = Node(5)\\n\\ninverted_root = invert_tree(root)\\n\\n# Function to print the tree (inorder traversal for demonstration)\\ndef print_tree(node):\\n  if node:\\n    print_tree(node.left)\\n    print(node.data, end=\" \")\\n    print_tree(node.right)\\n\\nprint(\"Original tree:\")\\nprint_tree(root)  # Output: 4 2 5 1 3\\nprint(\"\\\\nInverted tree:\")\\nprint_tree(inverted_root) # Output: 3 1 5 2 4\\n```\\n\\n**2. Iterative Approach (using a queue):**\\n\\nThis approach uses a queue for Breadth-First Search (BFS).  It processes nodes level by level.\\n\\n```python\\nfrom collections import deque\\n\\ndef invert_tree_iterative(root):\\n    if root is None:\\n        return None\\n\\n    queue = deque([root])\\n    while queue:\\n        current = queue.popleft()\\n        current.left, current.right = current.right, current.left  # Swap\\n\\n        if current.left:\\n            queue.append(current.left)\\n        if current.right:\\n            queue.append(current.right)\\n\\n    return root\\n\\n# Example usage (same as above, just replace invert_tree with invert_tree_iterative)\\n```\\n\\n**Choosing between Recursive and Iterative:**\\n\\n* **Recursive:** Generally more concise and easier to understand, but can lead to stack overflow errors for very deep trees.\\n* **Iterative:** Avoids stack overflow issues, but can be slightly less readable.\\n\\nFor most cases, the recursive approach is preferred for its simplicity unless you anticipate extremely deep trees.  The iterative approach using a queue provides a robust solution for those scenarios. Remember to adapt the `print_tree` function to your preferred tree traversal method (preorder, postorder, etc.) for verifying the inversion.', additional_kwargs={}, response_metadata={'prompt_feedback': {'block_reason': 0, 'safety_ratings': []}, 'finish_reason': 'STOP', 'model_name': 'gemini-1.5-flash', 'safety_ratings': []}, id='run--a2e753fd-509d-4e0d-9d4e-04585e5c7535-0', usage_metadata={'input_tokens': 6, 'output_tokens': 715, 'total_tokens': 721, 'input_token_details': {'cache_read': 0}})]}\n"
     ]
    }
   ],
   "source": [
    "import json\n",
    "\n",
    "query = \"how to invert a binary tree\"\n",
    "res = graph.invoke(State({\n",
    "\t\"messages\": [query]\n",
    "}))\n",
    "\n",
    "print(res)"
   ]
  },
  {
   "cell_type": "markdown",
   "id": "69bf7829",
   "metadata": {},
   "source": [
    "Stream"
   ]
  },
  {
   "cell_type": "code",
   "execution_count": 17,
   "id": "7940c2da",
   "metadata": {},
   "outputs": [
    {
     "name": "stdout",
     "output_type": "stream",
     "text": [
      "{'messages': [HumanMessage(content='how to reverse a linked list', additional_kwargs={}, response_metadata={}, id='81b85f7a-d22b-4f42-8875-5ab485d9df02')]}\n",
      "{'messages': [HumanMessage(content='how to reverse a linked list', additional_kwargs={}, response_metadata={}, id='81b85f7a-d22b-4f42-8875-5ab485d9df02'), AIMessage(content='There are several ways to reverse a linked list. Here are three common approaches, with explanations and code examples in Python:\\n\\n**Method 1: Iterative Reversal**\\n\\nThis is the most efficient and commonly used method.  It iterates through the list, changing the `next` pointers one by one.\\n\\n```python\\nclass Node:\\n    def __init__(self, data):\\n        self.data = data\\n        self.next = None\\n\\ndef reverse_linked_list_iterative(head):\\n    prev = None\\n    curr = head\\n    while curr:\\n        next_node = curr.next  # Store the next node\\n        curr.next = prev       # Reverse the current node\\'s pointer\\n        prev = curr           # Move \\'prev\\' one step forward\\n        curr = next_node      # Move \\'curr\\' one step forward\\n    return prev  # \\'prev\\' is now the new head\\n\\n# Example usage:\\nhead = Node(1)\\nhead.next = Node(2)\\nhead.next.next = Node(3)\\nhead.next.next.next = Node(4)\\n\\nreversed_head = reverse_linked_list_iterative(head)\\n\\n# Print the reversed list\\nwhile reversed_head:\\n    print(reversed_head.data, end=\" \")\\n    reversed_head = reversed_head.next\\n# Output: 4 3 2 1\\n```\\n\\n**Method 2: Recursive Reversal**\\n\\nThis method uses recursion. It\\'s elegant but can be less efficient for very large lists due to function call overhead.\\n\\n```python\\nclass Node:\\n    def __init__(self, data):\\n        self.data = data\\n        self.next = None\\n\\ndef reverse_linked_list_recursive(head):\\n    if not head or not head.next:\\n        return head  # Base case: empty list or single node\\n\\n    new_head = reverse_linked_list_recursive(head.next)\\n    head.next.next = head  # Reverse the link\\n    head.next = None       # Set the old head\\'s next to None (new tail)\\n    return new_head\\n\\n# Example usage (same as before):\\nhead = Node(1)\\nhead.next = Node(2)\\nhead.next.next = Node(3)\\nhead.next.next.next = Node(4)\\n\\nreversed_head = reverse_linked_list_recursive(head)\\n\\n# Print the reversed list (same as before)\\nwhile reversed_head:\\n    print(reversed_head.data, end=\" \")\\n    reversed_head = reversed_head.next\\n# Output: 4 3 2 1\\n```\\n\\n\\n**Method 3: Using a Stack (Less Efficient)**\\n\\nThis method uses a stack to store the nodes and then reconstruct the list in reversed order.  It\\'s less efficient than the iterative approach because of the stack operations.\\n\\n```python\\nclass Node:\\n    def __init__(self, data):\\n        self.data = data\\n        self.next = None\\n\\ndef reverse_linked_list_stack(head):\\n    stack = []\\n    curr = head\\n    while curr:\\n        stack.append(curr)\\n        curr = curr.next\\n\\n    if not stack:\\n        return None\\n\\n    new_head = stack.pop()\\n    curr = new_head\\n    while stack:\\n        next_node = stack.pop()\\n        curr.next = next_node\\n        curr = next_node\\n    curr.next = None  # Set the tail\\'s next to None\\n    return new_head\\n\\n#Example Usage (same as before):\\nhead = Node(1)\\nhead.next = Node(2)\\nhead.next.next = Node(3)\\nhead.next.next.next = Node(4)\\n\\nreversed_head = reverse_linked_list_stack(head)\\n\\n# Print the reversed list (same as before)\\nwhile reversed_head:\\n    print(reversed_head.data, end=\" \")\\n    reversed_head = reversed_head.next\\n# Output: 4 3 2 1\\n```\\n\\nThe **iterative approach (Method 1)** is generally preferred due to its efficiency and simplicity.  The recursive approach (Method 2) is more concise but can be less efficient for very large lists.  Avoid the stack-based approach (Method 3) unless you have a specific reason to use a stack. Remember to handle the edge case of an empty list or a list with only one node.', additional_kwargs={}, response_metadata={'prompt_feedback': {'block_reason': 0, 'safety_ratings': []}, 'finish_reason': 'STOP', 'model_name': 'gemini-1.5-flash', 'safety_ratings': []}, id='run--3784b0f3-dd7c-458d-a8a2-6826c83a5efa-0', usage_metadata={'input_tokens': 6, 'output_tokens': 997, 'total_tokens': 1003, 'input_token_details': {'cache_read': 0}})]}\n"
     ]
    }
   ],
   "source": [
    "import json\n",
    "\n",
    "query = \"how to reverse a linked list\"\n",
    "for event in graph.stream(State({\n",
    "\t\"messages\": [query]\n",
    "}), stream_mode=\"values\"):\n",
    "    print(event)\n",
    "\n"
   ]
  },
  {
   "cell_type": "code",
   "execution_count": null,
   "id": "d80d8ea6",
   "metadata": {},
   "outputs": [],
   "source": []
  }
 ],
 "metadata": {
  "kernelspec": {
   "display_name": "lgraph",
   "language": "python",
   "name": "python3"
  },
  "language_info": {
   "codemirror_mode": {
    "name": "ipython",
    "version": 3
   },
   "file_extension": ".py",
   "mimetype": "text/x-python",
   "name": "python",
   "nbconvert_exporter": "python",
   "pygments_lexer": "ipython3",
   "version": "3.13.3"
  }
 },
 "nbformat": 4,
 "nbformat_minor": 5
}
